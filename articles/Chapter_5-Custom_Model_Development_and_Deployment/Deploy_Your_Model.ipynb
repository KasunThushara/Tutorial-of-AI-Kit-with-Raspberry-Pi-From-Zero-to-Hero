{
 "cells": [
  {
   "cell_type": "markdown",
   "metadata": {},
   "source": [
    "---\n",
    "sidebar_position: 3\n",
    "---\n",
    "\n",
    "> You can get this [Notebook](https://github.com/Seeed-Projects/Tutorial-of-AI-Kit-with-Raspberry-Pi-From-Zero-to-Hero/blob/main/articles/Chapter_5-Custom_Model_Development_and_Deployment/Deploy_Your_Model.ipynb) on GitHub."
   ]
  },
  {
   "cell_type": "markdown",
   "metadata": {},
   "source": [
    "# Step 1: Prepare you environment on your raspberry pi\n",
    "\n",
    "**Note：This part of code run on your [raspberry pi5](https://www.seeedstudio.com/Raspberry-Pi-5-2GB-p-5938.html) or [Recomputer R Series](https://www.seeedstudio.com/reComputer-R1000-Series-Optional-Accessories.html) with your [AI kit](https://www.seeedstudio.com/Raspberry-Pi-AI-Kit-p-5900.html)**\n",
    "\n",
    "## Update time\n",
    "\n",
    "```\n",
    "sudo date -s \"$(wget -qSO- --max-redirect=0 google.com 2>&1 | grep Date: | cut -d' ' -f5-8)Z\"\n",
    "```\n",
    "\n",
    "\n",
    "## Upgrade raspberry pi\n",
    "\n",
    "```\n",
    "sudo apt update && sudo apt upgrade\n",
    "```\n",
    "\n",
    "## Install jupyter \n",
    "\n",
    "```\n",
    "sudo apt install jupyter\n",
    "```\n",
    "\n",
    "## Open jupyter\n",
    "\n",
    "```\n",
    "jupyter notebook\n",
    "```"
   ]
  },
  {
   "cell_type": "markdown",
   "metadata": {},
   "source": [
    ">**Note**\n",
    "Please install hailo8l to your raspberrypi follow [this](https://www.raspberrypi.com/documentation/accessories/ai-kit.html), and for [reComputerR](https://www.seeedstudio.com/reComputer-R1000-Series-Optional-Accessories.html) series follow [this](https://wiki.seeedstudio.com/yolov8_object_detection_on_recomputer_r1000_with_hailo_8l/#step-1-install-ai-kit)."
   ]
  },
  {
   "cell_type": "code",
   "execution_count": 1,
   "metadata": {},
   "outputs": [
    {
     "name": "stdout",
     "output_type": "stream",
     "text": [
      "Reading package lists... Done\n",
      "Building dependency tree... Done\n",
      "Reading state information... Done\n",
      "hailo-all is already the newest version (4.18.0+1).\n",
      "You might want to run 'apt --fix-broken install' to correct these.\n",
      "The following packages have unmet dependencies:\n",
      " hailo-all : Depends: hailofw (>= 4.18.0) but it is not going to be installed\n",
      "\u001b[1;31mE: \u001b[0mUnmet dependencies. Try 'apt --fix-broken install' with no packages (or specify a solution).\u001b[0m\n"
     ]
    }
   ],
   "source": [
    "# Install hailo-all on raspberrypi\n",
    "\n",
    "! sudo apt install hailo-all -y"
   ]
  },
  {
   "cell_type": "code",
   "execution_count": 2,
   "metadata": {},
   "outputs": [
    {
     "name": "stdout",
     "output_type": "stream",
     "text": [
      "Executing on device: 0000:01:00.0\r\n",
      "Identifying board\r\n",
      "Control Protocol Version: 2\r\n",
      "Firmware Version: 4.18.0 (release,app,extended context switch buffer)\r\n",
      "Logger Version: 0\r\n",
      "Board Name: Hailo-8\u0000\u0000\u0000\u0000\u0000\u0000\u0000\u0000\u0000\u0000\u0000\u0000\u0000\u0000\u0000\u0000\u0000\u0000\u0000\u0000\u0000\u0000\u0000\u0000\u0000\r\n",
      "Device Architecture: HAILO8L\r\n",
      "Serial Number: HLDDLBB243200427\r\n",
      "Part Number: HM21LB1C2LAE\r\n",
      "Product Name: HAILO-8L AI ACC M.2 B+M KEY MODULE EXT TMP\r\n",
      "\r\n"
     ]
    }
   ],
   "source": [
    "# Check if the hailo-all is installed\n",
    "\n",
    "! hailortcli fw-control identify"
   ]
  },
  {
   "cell_type": "code",
   "execution_count": 3,
   "metadata": {},
   "outputs": [
    {
     "name": "stdout",
     "output_type": "stream",
     "text": [
      "Cloning into 'hailo-rpi5-examples'...\n",
      "remote: Enumerating objects: 487, done.\u001b[K\n",
      "remote: Counting objects: 100% (180/180), done.\u001b[K\n",
      "remote: Compressing objects: 100% (92/92), done.\u001b[K\n",
      "remote: Total 487 (delta 117), reused 91 (delta 86), pack-reused 307 (from 1)\u001b[K\n",
      "Receiving objects: 100% (487/487), 20.36 MiB | 9.76 MiB/s, done.\n",
      "Resolving deltas: 100% (274/274), done.\n"
     ]
    }
   ],
   "source": [
    "# Install hailo-rpi5-examples\n",
    "\n",
    "! git clone https://github.com/hailo-ai/hailo-rpi5-examples.git"
   ]
  },
  {
   "cell_type": "markdown",
   "metadata": {},
   "source": [
    "# Step 2: Configure labels\n",
    "\n",
    "The output of yolov8n hef model will be three classes 0, 1, 2. And we use `json` file to parse the output."
   ]
  },
  {
   "cell_type": "code",
   "execution_count": 4,
   "metadata": {},
   "outputs": [
    {
     "name": "stdout",
     "output_type": "stream",
     "text": [
      "JSON file saved as config.json\n"
     ]
    }
   ],
   "source": [
    "import json\n",
    "\n",
    "data = {\n",
    "    \"detection_threshold\": 0.1,\n",
    "    \"max_boxes\": 200,\n",
    "    \"labels\": [\n",
    "        \" \",\n",
    "        \"apple\",\n",
    "        \"banana\",\n",
    "        \"orange\"\n",
    "    ]\n",
    "}\n",
    "\n",
    "output_file = \"config.json\"\n",
    "\n",
    "with open(output_file, \"w\") as file:\n",
    "    json.dump(data, file, indent=4)\n",
    "\n",
    "print(f\"JSON file saved as {output_file}\")"
   ]
  },
  {
   "cell_type": "code",
   "execution_count": 5,
   "metadata": {},
   "outputs": [
    {
     "name": "stdout",
     "output_type": "stream",
     "text": [
      "Setting up the environment...\n",
      "Setting up the environment for hailo-tappas-core...\n",
      "TAPPAS_VERSION is 3.29.1. Proceeding...\n",
      "You are not in the venv_hailo_rpi5_examples virtual environment.\n",
      "Virtual environment does not exist. Creating and activating...\n",
      "TAPPAS_POST_PROC_DIR set to /usr/lib/aarch64-linux-gnu/hailo/tappas/post_processes\n",
      "DEVICE_ARCHITECTURE is set to: HAILO8L\n",
      "Looking in indexes: https://pypi.org/simple, https://www.piwheels.org/simple\n",
      "Collecting setproctitle\n",
      "  Using cached setproctitle-1.3.4-cp311-cp311-manylinux_2_17_aarch64.manylinux2014_aarch64.whl (31 kB)\n",
      "Installing collected packages: setproctitle\n",
      "Successfully installed setproctitle-1.3.4\n"
     ]
    }
   ],
   "source": [
    "# Install necessary libs\n",
    "\n",
    "! source ./hailo-rpi5-examples/setup_env.sh && pip install setproctitle"
   ]
  },
  {
   "cell_type": "code",
   "execution_count": 6,
   "metadata": {},
   "outputs": [
    {
     "name": "stdout",
     "output_type": "stream",
     "text": [
      "Setting up the environment...\n",
      "Setting up the environment for hailo-tappas-core...\n",
      "TAPPAS_VERSION is 3.29.1. Proceeding...\n",
      "You are not in the venv_hailo_rpi5_examples virtual environment.\n",
      "Virtual environment exists. Activating...\n",
      "TAPPAS_POST_PROC_DIR set to /usr/lib/aarch64-linux-gnu/hailo/tappas/post_processes\n",
      "DEVICE_ARCHITECTURE is set to: HAILO8L\n",
      "Setting up the environment...\n",
      "Setting up the environment for hailo-tappas-core...\n",
      "TAPPAS_VERSION is 3.29.1. Proceeding...\n",
      "You are in the venv_hailo_rpi5_examples virtual environment.\n",
      "TAPPAS_POST_PROC_DIR set to /usr/lib/aarch64-linux-gnu/hailo/tappas/post_processes\n",
      "DEVICE_ARCHITECTURE is set to: HAILO8L\n",
      "Looking in indexes: https://pypi.org/simple, https://www.piwheels.org/simple\n",
      "Requirement already satisfied: numpy<2.0.0 in /usr/lib/python3/dist-packages (from -r requirements.txt (line 1)) (1.24.2)\n",
      "Requirement already satisfied: setproctitle in ./venv_hailo_rpi5_examples/lib/python3.11/site-packages (from -r requirements.txt (line 2)) (1.3.4)\n",
      "Collecting opencv-python\n",
      "  Using cached opencv_python-4.10.0.84-cp37-abi3-manylinux_2_17_aarch64.manylinux2014_aarch64.whl (41.7 MB)\n",
      "Installing collected packages: opencv-python\n",
      "Successfully installed opencv-python-4.10.0.84\n",
      "Looking in indexes: https://pypi.org/simple, https://www.piwheels.org/simple\n",
      "Collecting pytest\n",
      "  Using cached https://www.piwheels.org/simple/pytest/pytest-8.3.3-py3-none-any.whl (342 kB)\n",
      "Collecting pytest-timeout\n",
      "  Using cached https://www.piwheels.org/simple/pytest-timeout/pytest_timeout-2.3.1-py3-none-any.whl (14 kB)\n",
      "Collecting iniconfig\n",
      "  Using cached https://www.piwheels.org/simple/iniconfig/iniconfig-2.0.0-py3-none-any.whl (5.9 kB)\n",
      "Requirement already satisfied: packaging in /usr/lib/python3/dist-packages (from pytest->-r tests/test_resources/requirements.txt (line 1)) (23.0)\n",
      "Collecting pluggy<2,>=1.5\n",
      "  Using cached https://www.piwheels.org/simple/pluggy/pluggy-1.5.0-py3-none-any.whl (20 kB)\n",
      "Installing collected packages: pluggy, iniconfig, pytest, pytest-timeout\n",
      "Successfully installed iniconfig-2.0.0 pluggy-1.5.0 pytest-8.3.3 pytest-timeout-2.3.1\n",
      "Reading package lists... Done\n",
      "Building dependency tree... Done\n",
      "Reading state information... Done\n",
      "You might want to run 'apt --fix-broken install' to correct these.\n",
      "The following packages have unmet dependencies:\n",
      " hailo-all : Depends: hailofw (>= 4.18.0) but it is not going to be installed\n",
      "\u001b[1;31mE: \u001b[0mUnmet dependencies. Try 'apt --fix-broken install' with no packages (or specify a solution).\u001b[0m\n",
      "Downloading HAILO8L models\n",
      "--2024-11-26 03:31:46--  https://hailo-csdata.s3.eu-west-2.amazonaws.com/resources/hefs/h8l_rpi/yolov8s_h8l.hef\n",
      "Resolving hailo-csdata.s3.eu-west-2.amazonaws.com (hailo-csdata.s3.eu-west-2.amazonaws.com)... 198.18.2.9\n",
      "Connecting to hailo-csdata.s3.eu-west-2.amazonaws.com (hailo-csdata.s3.eu-west-2.amazonaws.com)|198.18.2.9|:443... connected.\n",
      "HTTP request sent, awaiting response... 200 OK\n",
      "Length: 36591775 (35M) [binary/octet-stream]\n",
      "Saving to: ‘./resources/yolov8s_h8l.hef’\n",
      "\n",
      "yolov8s_h8l.hef     100%[===================>]  34.90M  10.6MB/s    in 5.7s    \n",
      "\n",
      "2024-11-26 03:31:53 (6.07 MB/s) - ‘./resources/yolov8s_h8l.hef’ saved [36591775/36591775]\n",
      "\n",
      "--2024-11-26 03:31:53--  https://hailo-csdata.s3.eu-west-2.amazonaws.com/resources/hefs/h8l_rpi/yolov5n_seg_h8l_mz.hef\n",
      "Resolving hailo-csdata.s3.eu-west-2.amazonaws.com (hailo-csdata.s3.eu-west-2.amazonaws.com)... 198.18.2.9\n",
      "Connecting to hailo-csdata.s3.eu-west-2.amazonaws.com (hailo-csdata.s3.eu-west-2.amazonaws.com)|198.18.2.9|:443... connected.\n",
      "HTTP request sent, awaiting response... 200 OK\n",
      "Length: 7763282 (7.4M) [binary/octet-stream]\n",
      "Saving to: ‘./resources/yolov5n_seg_h8l_mz.hef’\n",
      "\n",
      "yolov5n_seg_h8l_mz. 100%[===================>]   7.40M  2.67MB/s    in 2.8s    \n",
      "\n",
      "2024-11-26 03:31:57 (2.67 MB/s) - ‘./resources/yolov5n_seg_h8l_mz.hef’ saved [7763282/7763282]\n",
      "\n",
      "--2024-11-26 03:31:57--  https://hailo-csdata.s3.eu-west-2.amazonaws.com/resources/hefs/h8l_rpi/yolov8s_pose_h8l.hef\n",
      "Resolving hailo-csdata.s3.eu-west-2.amazonaws.com (hailo-csdata.s3.eu-west-2.amazonaws.com)... 198.18.2.9\n",
      "Connecting to hailo-csdata.s3.eu-west-2.amazonaws.com (hailo-csdata.s3.eu-west-2.amazonaws.com)|198.18.2.9|:443... connected.\n",
      "HTTP request sent, awaiting response... 200 OK\n",
      "Length: 23893866 (23M) [binary/octet-stream]\n",
      "Saving to: ‘./resources/yolov8s_pose_h8l.hef’\n",
      "\n",
      "yolov8s_pose_h8l.he 100%[===================>]  22.79M  6.06MB/s    in 4.2s    \n",
      "\n",
      "2024-11-26 03:32:03 (5.39 MB/s) - ‘./resources/yolov8s_pose_h8l.hef’ saved [23893866/23893866]\n",
      "\n",
      "--2024-11-26 03:32:03--  https://hailo-csdata.s3.eu-west-2.amazonaws.com/resources/hefs/h8l_rpi/yolov6n.hef\n",
      "Resolving hailo-csdata.s3.eu-west-2.amazonaws.com (hailo-csdata.s3.eu-west-2.amazonaws.com)... 198.18.2.9\n",
      "Connecting to hailo-csdata.s3.eu-west-2.amazonaws.com (hailo-csdata.s3.eu-west-2.amazonaws.com)|198.18.2.9|:443... connected.\n",
      "HTTP request sent, awaiting response... 200 OK\n",
      "Length: 14574566 (14M) [binary/octet-stream]\n",
      "Saving to: ‘./resources/yolov6n.hef’\n",
      "\n",
      "yolov6n.hef         100%[===================>]  13.90M  4.51MB/s    in 3.1s    \n",
      "\n",
      "2024-11-26 03:32:07 (4.51 MB/s) - ‘./resources/yolov6n.hef’ saved [14574566/14574566]\n",
      "\n",
      "--2024-11-26 03:32:07--  https://hailo-csdata.s3.eu-west-2.amazonaws.com/resources/hefs/h8l_rpi/yolox_s_leaky_h8l_mz.hef\n",
      "Resolving hailo-csdata.s3.eu-west-2.amazonaws.com (hailo-csdata.s3.eu-west-2.amazonaws.com)... 198.18.2.9\n",
      "Connecting to hailo-csdata.s3.eu-west-2.amazonaws.com (hailo-csdata.s3.eu-west-2.amazonaws.com)|198.18.2.9|:443... connected.\n",
      "HTTP request sent, awaiting response... 200 OK\n",
      "Length: 22412459 (21M) [binary/octet-stream]\n",
      "Saving to: ‘./resources/yolox_s_leaky_h8l_mz.hef’\n",
      "\n",
      "yolox_s_leaky_h8l_m 100%[===================>]  21.37M  5.71MB/s    in 3.7s    \n",
      "\n",
      "2024-11-26 03:32:12 (5.71 MB/s) - ‘./resources/yolox_s_leaky_h8l_mz.hef’ saved [22412459/22412459]\n",
      "\n",
      "--2024-11-26 03:32:12--  https://hailo-csdata.s3.eu-west-2.amazonaws.com/resources/hefs/h8l_rpi/yolov8s-hailo8l-barcode.hef\n",
      "Resolving hailo-csdata.s3.eu-west-2.amazonaws.com (hailo-csdata.s3.eu-west-2.amazonaws.com)... 198.18.2.9\n",
      "Connecting to hailo-csdata.s3.eu-west-2.amazonaws.com (hailo-csdata.s3.eu-west-2.amazonaws.com)|198.18.2.9|:443... connected.\n",
      "HTTP request sent, awaiting response... 200 OK\n",
      "Length: 36475489 (35M) [binary/octet-stream]\n",
      "Saving to: ‘./resources/yolov8s-hailo8l-barcode.hef’\n",
      "\n",
      "yolov8s-hailo8l-bar 100%[===================>]  34.79M  10.5MB/s    in 5.7s    \n",
      "\n",
      "2024-11-26 03:32:19 (6.08 MB/s) - ‘./resources/yolov8s-hailo8l-barcode.hef’ saved [36475489/36475489]\n",
      "\n",
      "--2024-11-26 03:32:19--  https://hailo-csdata.s3.eu-west-2.amazonaws.com/resources/video/detection0.mp4\n",
      "Resolving hailo-csdata.s3.eu-west-2.amazonaws.com (hailo-csdata.s3.eu-west-2.amazonaws.com)... 198.18.2.9\n",
      "Connecting to hailo-csdata.s3.eu-west-2.amazonaws.com (hailo-csdata.s3.eu-west-2.amazonaws.com)|198.18.2.9|:443... connected.\n",
      "HTTP request sent, awaiting response... 200 OK\n",
      "Length: 2372012 (2.3M) [video/mp4]\n",
      "Saving to: ‘./resources/detection0.mp4’\n",
      "\n",
      "detection0.mp4      100%[===================>]   2.26M  1.30MB/s    in 1.7s    \n",
      "\n",
      "2024-11-26 03:32:22 (1.30 MB/s) - ‘./resources/detection0.mp4’ saved [2372012/2372012]\n",
      "\n",
      "--2024-11-26 03:32:22--  https://hailo-csdata.s3.eu-west-2.amazonaws.com/resources/video/barcode.mp4\n",
      "Resolving hailo-csdata.s3.eu-west-2.amazonaws.com (hailo-csdata.s3.eu-west-2.amazonaws.com)... 198.18.2.9\n",
      "Connecting to hailo-csdata.s3.eu-west-2.amazonaws.com (hailo-csdata.s3.eu-west-2.amazonaws.com)|198.18.2.9|:443... connected.\n",
      "HTTP request sent, awaiting response... 200 OK\n",
      "Length: 590333 (576K) [video/mp4]\n",
      "Saving to: ‘./resources/barcode.mp4’\n",
      "\n",
      "barcode.mp4         100%[===================>] 576.50K   479KB/s    in 1.2s    \n",
      "\n",
      "2024-11-26 03:32:25 (479 KB/s) - ‘./resources/barcode.mp4’ saved [590333/590333]\n",
      "\n",
      "\u001b[1mThe Meson build system\u001b[0m\n",
      "Version: 1.0.1\n",
      "Source dir: \u001b[1m/home/seeed/Tutorial-of-AI-Kit-with-Raspberry-Pi-From-Zero-to-Hero/articles/Chapter_5-Custom_Model_Development_and_Deployment/hailo-rpi5-examples\u001b[0m\n",
      "Build dir: \u001b[1m/home/seeed/Tutorial-of-AI-Kit-with-Raspberry-Pi-From-Zero-to-Hero/articles/Chapter_5-Custom_Model_Development_and_Deployment/hailo-rpi5-examples/build.release\u001b[0m\n",
      "Build type: \u001b[1mnative build\u001b[0m\n",
      "Project name: \u001b[1mhailo_rpi5_examples\u001b[0m\n",
      "Project version: \u001b[1m1.1.1\u001b[0m\n"
     ]
    },
    {
     "name": "stdout",
     "output_type": "stream",
     "text": [
      "C compiler for the host machine: \u001b[1mcc\u001b[0m (gcc 12.2.0 \"cc (Debian 12.2.0-14) 12.2.0\")\n",
      "C linker for the host machine: \u001b[1mcc\u001b[0m ld.bfd 2.40\n",
      "C++ compiler for the host machine: \u001b[1mc++\u001b[0m (gcc 12.2.0 \"c++ (Debian 12.2.0-14) 12.2.0\")\n",
      "C++ linker for the host machine: \u001b[1mc++\u001b[0m ld.bfd 2.40\n",
      "Host machine cpu family: \u001b[1maarch64\u001b[0m\n",
      "Host machine cpu: \u001b[1maarch64\u001b[0m\n",
      "Found pkg-config: \u001b[1m/usr/bin/pkg-config\u001b[0m (1.8.1)\n",
      "Run-time dependency \u001b[1mhailo-tappas-core\u001b[0m found: \u001b[1;32mYES\u001b[0m \u001b[36m3.29.1\u001b[0m\n",
      "Build targets in project: \u001b[1m4\u001b[0m\n",
      "\n",
      "hailo_rpi5_examples \u001b[36m1.1.1\u001b[0m\n",
      "\n",
      "  \u001b[1mUser defined options\u001b[0m\n",
      "    buildtype: release\n",
      "\n",
      "Found ninja-1.11.1 at /usr/bin/ninja\n",
      "[8/8] Linking target cpp/libyolov5seg_postprocess.so\u001b[K.so.p/yolov5seg.cpp.o\u001b[K\u001b[K                  \n",
      "[0/1] Installing files.\u001b[K\n",
      "Installing cpp/libyolo_hailortpp_postprocess.so to /home/seeed/Tutorial-of-AI-Kit-with-Raspberry-Pi-From-Zero-to-Hero/articles/Chapter_5-Custom_Model_Development_and_Deployment/hailo-rpi5-examples/resources\n",
      "Installing cpp/libremove_labels.so to /home/seeed/Tutorial-of-AI-Kit-with-Raspberry-Pi-From-Zero-to-Hero/articles/Chapter_5-Custom_Model_Development_and_Deployment/hailo-rpi5-examples/resources\n",
      "Installing cpp/libyolov8pose_postprocess.so to /home/seeed/Tutorial-of-AI-Kit-with-Raspberry-Pi-From-Zero-to-Hero/articles/Chapter_5-Custom_Model_Development_and_Deployment/hailo-rpi5-examples/resources\n",
      "Installing cpp/libyolov5seg_postprocess.so to /home/seeed/Tutorial-of-AI-Kit-with-Raspberry-Pi-From-Zero-to-Hero/articles/Chapter_5-Custom_Model_Development_and_Deployment/hailo-rpi5-examples/resources\n"
     ]
    }
   ],
   "source": [
    "# Install postprocess .so lib\n",
    "\n",
    "! source ./hailo-rpi5-examples/setup_env.sh && cd ./hailo-rpi5-examples && bash ./install.sh"
   ]
  },
  {
   "cell_type": "markdown",
   "metadata": {},
   "source": [
    "# Step 3: Run your model\n"
   ]
  },
  {
   "cell_type": "markdown",
   "metadata": {},
   "source": [
    "📌 Note: If you meet error like `max_desc_page_size given 16384 is bigger than hw max desc page size 4096` please check this [link](https://community.hailo.ai/t/hailort-error-check-failed-max-desc-page-size-given-16384-is-bigger-than-hw-max-desc-page-size-4096/3690)"
   ]
  },
  {
   "cell_type": "code",
   "execution_count": 7,
   "metadata": {},
   "outputs": [
    {
     "name": "stdout",
     "output_type": "stream",
     "text": [
      "Setting up the environment...\n",
      "Setting up the environment for hailo-tappas-core...\n",
      "TAPPAS_VERSION is 3.29.1. Proceeding...\n",
      "You are not in the venv_hailo_rpi5_examples virtual environment.\n",
      "Virtual environment exists. Activating...\n",
      "TAPPAS_POST_PROC_DIR set to /usr/lib/aarch64-linux-gnu/hailo/tappas/post_processes\n",
      "DEVICE_ARCHITECTURE is set to: HAILO8L\n",
      "Auto-detected Hailo architecture: hailo8l\n",
      "v4l2src device=/dev/video0 name=source ! video/x-raw, width=640, height=480 !  queue name=source_scale_q leaky=no max-size-buffers=3 max-size-bytes=0 max-size-time=0  ! videoscale name=source_videoscale n-threads=2 ! queue name=source_convert_q leaky=no max-size-buffers=3 max-size-bytes=0 max-size-time=0  ! videoconvert n-threads=3 name=source_convert qos=false ! video/x-raw, format=RGB, pixel-aspect-ratio=1/1 !  queue name=inference_scale_q leaky=no max-size-buffers=3 max-size-bytes=0 max-size-time=0  ! videoscale name=inference_videoscale n-threads=2 qos=false ! queue name=inference_convert_q leaky=no max-size-buffers=3 max-size-bytes=0 max-size-time=0  ! video/x-raw, pixel-aspect-ratio=1/1 ! videoconvert name=inference_videoconvert n-threads=2 ! queue name=inference_hailonet_q leaky=no max-size-buffers=3 max-size-bytes=0 max-size-time=0  ! hailonet name=inference_hailonet hef-path=../../models/Chapter5/yolov8n.hef batch-size=2 nms-score-threshold=0.3 nms-iou-threshold=0.45 output-format-type=HAILO_FORMAT_TYPE_FLOAT32 force-writable=true ! queue name=inference_hailofilter_q leaky=no max-size-buffers=3 max-size-bytes=0 max-size-time=0  ! hailofilter name=inference_hailofilter so-path=/home/seeed/Tutorial-of-AI-Kit-with-Raspberry-Pi-From-Zero-to-Hero/articles/Chapter_5-Custom_Model_Development_and_Deployment/hailo-rpi5-examples/basic_pipelines/../resources/libyolo_hailortpp_postprocess.so  config-path=./config.json   qos=false  ! queue name=identity_callback_q leaky=no max-size-buffers=3 max-size-bytes=0 max-size-time=0  ! identity name=identity_callback  ! queue name=hailo_display_hailooverlay_q leaky=no max-size-buffers=3 max-size-bytes=0 max-size-time=0  ! hailooverlay name=hailo_display_hailooverlay ! queue name=hailo_display_videoconvert_q leaky=no max-size-buffers=3 max-size-bytes=0 max-size-time=0  ! videoconvert name=hailo_display_videoconvert n-threads=2 qos=false ! queue name=hailo_display_q leaky=no max-size-buffers=3 max-size-bytes=0 max-size-time=0  ! fpsdisplaysink name=hailo_display video-sink=xvimagesink sync=false text-overlay=false signal-fps-measurements=true \n",
      "Showing FPS\n",
      "FPS: 12.36, Droprate: 0.00, Avg FPS: 12.36\n",
      "FPS: 9.98, Droprate: 0.00, Avg FPS: 11.24\n",
      "FPS: 10.07, Droprate: 0.00, Avg FPS: 10.82\n",
      "FPS: 9.99, Droprate: 0.00, Avg FPS: 10.60\n",
      "FPS: 9.93, Droprate: 0.00, Avg FPS: 10.48\n",
      "FPS: 10.06, Droprate: 0.00, Avg FPS: 10.41\n",
      "FPS: 9.95, Droprate: 0.00, Avg FPS: 10.35\n",
      "FPS: 9.86, Droprate: 0.00, Avg FPS: 10.29\n",
      "FPS: 10.02, Droprate: 0.00, Avg FPS: 10.26\n",
      "FPS: 10.03, Droprate: 0.00, Avg FPS: 10.23\n",
      "FPS: 9.99, Droprate: 0.00, Avg FPS: 10.21\n",
      "FPS: 9.98, Droprate: 0.00, Avg FPS: 10.19\n",
      "FPS: 9.94, Droprate: 0.00, Avg FPS: 10.17\n",
      "FPS: 9.65, Droprate: 0.00, Avg FPS: 10.13\n",
      "FPS: 10.44, Droprate: 0.00, Avg FPS: 10.15\n",
      "FPS: 10.07, Droprate: 0.00, Avg FPS: 10.15\n",
      "FPS: 10.00, Droprate: 0.00, Avg FPS: 10.14\n",
      "FPS: 9.99, Droprate: 0.00, Avg FPS: 10.13\n",
      "FPS: 9.98, Droprate: 0.00, Avg FPS: 10.12\n",
      "FPS: 10.03, Droprate: 0.00, Avg FPS: 10.12\n",
      "FPS: 9.92, Droprate: 0.00, Avg FPS: 10.11\n",
      "FPS: 10.08, Droprate: 0.00, Avg FPS: 10.11\n",
      "FPS: 10.00, Droprate: 0.00, Avg FPS: 10.10\n",
      "FPS: 9.99, Droprate: 0.00, Avg FPS: 10.10\n",
      "FPS: 9.99, Droprate: 0.00, Avg FPS: 10.10\n",
      "FPS: 9.99, Droprate: 0.00, Avg FPS: 10.09\n",
      "FPS: 9.94, Droprate: 0.00, Avg FPS: 10.09\n",
      "FPS: 10.06, Droprate: 0.00, Avg FPS: 10.09\n",
      "FPS: 9.98, Droprate: 0.00, Avg FPS: 10.08\n",
      "FPS: 9.96, Droprate: 0.00, Avg FPS: 10.08\n",
      "FPS: 9.97, Droprate: 0.00, Avg FPS: 10.07\n",
      "FPS: 10.06, Droprate: 0.00, Avg FPS: 10.07\n",
      "FPS: 9.95, Droprate: 0.00, Avg FPS: 10.07\n",
      "FPS: 10.06, Droprate: 0.00, Avg FPS: 10.07\n",
      "FPS: 9.96, Droprate: 0.00, Avg FPS: 10.07\n",
      "FPS: 10.05, Droprate: 0.00, Avg FPS: 10.07\n",
      "FPS: 9.98, Droprate: 0.00, Avg FPS: 10.06\n",
      "FPS: 9.99, Droprate: 0.00, Avg FPS: 10.06\n",
      "FPS: 10.03, Droprate: 0.00, Avg FPS: 10.06\n",
      "FPS: 10.07, Droprate: 0.00, Avg FPS: 10.06\n",
      "FPS: 9.98, Droprate: 0.00, Avg FPS: 10.06\n",
      "FPS: 9.92, Droprate: 0.00, Avg FPS: 10.06\n",
      "FPS: 10.08, Droprate: 0.00, Avg FPS: 10.06\n",
      "FPS: 9.95, Droprate: 0.00, Avg FPS: 10.06\n",
      "FPS: 9.96, Droprate: 0.00, Avg FPS: 10.05\n",
      "FPS: 9.97, Droprate: 0.00, Avg FPS: 10.05\n",
      "FPS: 10.07, Droprate: 0.00, Avg FPS: 10.05\n",
      "QoS message received from source\n",
      "FPS: 8.00, Droprate: 0.00, Avg FPS: 10.01\n",
      "QoS message received from source\n",
      "FPS: 3.34, Droprate: 0.00, Avg FPS: 9.87\n",
      "FPS: 9.96, Droprate: 0.00, Avg FPS: 9.87\n",
      "FPS: 9.93, Droprate: 0.00, Avg FPS: 9.87\n",
      "FPS: 10.06, Droprate: 0.00, Avg FPS: 9.87\n",
      "FPS: 10.00, Droprate: 0.00, Avg FPS: 9.88\n",
      "FPS: 10.01, Droprate: 0.00, Avg FPS: 9.88\n",
      "FPS: 10.01, Droprate: 0.00, Avg FPS: 9.88\n",
      "FPS: 9.99, Droprate: 0.00, Avg FPS: 9.88\n",
      "FPS: 9.92, Droprate: 0.00, Avg FPS: 9.88\n",
      "FPS: 10.10, Droprate: 0.00, Avg FPS: 9.89\n",
      "FPS: 9.72, Droprate: 0.00, Avg FPS: 9.89\n",
      "FPS: 10.12, Droprate: 0.00, Avg FPS: 9.89\n",
      "FPS: 10.02, Droprate: 0.00, Avg FPS: 9.89\n",
      "FPS: 9.98, Droprate: 0.00, Avg FPS: 9.89\n",
      "FPS: 9.96, Droprate: 0.00, Avg FPS: 9.89\n",
      "FPS: 10.01, Droprate: 0.00, Avg FPS: 9.90\n",
      "FPS: 10.09, Droprate: 0.00, Avg FPS: 9.90\n",
      "FPS: 9.96, Droprate: 0.00, Avg FPS: 9.90\n",
      "FPS: 9.94, Droprate: 0.00, Avg FPS: 9.90\n",
      "FPS: 9.98, Droprate: 0.00, Avg FPS: 9.90\n",
      "FPS: 10.03, Droprate: 0.00, Avg FPS: 9.90\n",
      "FPS: 10.03, Droprate: 0.00, Avg FPS: 9.91\n",
      "FPS: 9.98, Droprate: 0.00, Avg FPS: 9.91\n",
      "FPS: 10.04, Droprate: 0.00, Avg FPS: 9.91\n",
      "FPS: 9.97, Droprate: 0.00, Avg FPS: 9.91\n",
      "FPS: 9.93, Droprate: 0.00, Avg FPS: 9.91\n",
      "FPS: 10.02, Droprate: 0.00, Avg FPS: 9.91\n",
      "FPS: 10.00, Droprate: 0.00, Avg FPS: 9.91\n",
      "FPS: 9.85, Droprate: 0.00, Avg FPS: 9.91\n",
      "FPS: 9.86, Droprate: 0.00, Avg FPS: 9.91\n",
      "FPS: 10.25, Droprate: 0.00, Avg FPS: 9.92\n",
      "FPS: 10.00, Droprate: 0.00, Avg FPS: 9.92\n",
      "FPS: 10.04, Droprate: 0.00, Avg FPS: 9.92\n",
      "FPS: 9.91, Droprate: 0.00, Avg FPS: 9.92\n",
      "FPS: 9.97, Droprate: 0.00, Avg FPS: 9.92\n",
      "FPS: 10.12, Droprate: 0.00, Avg FPS: 9.92\n",
      "FPS: 9.91, Droprate: 0.00, Avg FPS: 9.92\n",
      "FPS: 10.04, Droprate: 0.00, Avg FPS: 9.92\n",
      "FPS: 10.08, Droprate: 0.00, Avg FPS: 9.92\n",
      "FPS: 9.99, Droprate: 0.00, Avg FPS: 9.93\n",
      "FPS: 9.98, Droprate: 0.00, Avg FPS: 9.93\n",
      "FPS: 10.00, Droprate: 0.00, Avg FPS: 9.93\n",
      "FPS: 9.95, Droprate: 0.00, Avg FPS: 9.93\n",
      "FPS: 10.05, Droprate: 0.00, Avg FPS: 9.93\n",
      "FPS: 9.96, Droprate: 0.00, Avg FPS: 9.93\n",
      "FPS: 10.04, Droprate: 0.00, Avg FPS: 9.93\n",
      "Error: gst-resource-error-quark: Output window was closed (3), ../sys/xvimage/xvimagesink.c(586): gst_xv_image_sink_handle_xevents (): /GstPipeline:pipeline0/GstFPSDisplaySink:hailo_display/GstXvImageSink:xvimagesink0\n",
      "Shutting down... Hit Ctrl-C again to force quit.\n"
     ]
    }
   ],
   "source": [
    "! source ./hailo-rpi5-examples/setup_env.sh && python ./hailo-rpi5-examples/basic_pipelines/detection_pipeline.py --labels-json ./config.json --hef ../../models/Chapter5/yolov8n.hef -i /dev/video0"
   ]
  },
  {
   "cell_type": "code",
   "execution_count": null,
   "metadata": {},
   "outputs": [],
   "source": []
  }
 ],
 "metadata": {
  "kernelspec": {
   "display_name": "Python 3 (ipykernel)",
   "language": "python",
   "name": "python3"
  },
  "language_info": {
   "codemirror_mode": {
    "name": "ipython",
    "version": 3
   },
   "file_extension": ".py",
   "mimetype": "text/x-python",
   "name": "python",
   "nbconvert_exporter": "python",
   "pygments_lexer": "ipython3",
   "version": "3.11.2"
  }
 },
 "nbformat": 4,
 "nbformat_minor": 2
}
