{
 "cells": [
  {
   "cell_type": "markdown",
   "metadata": {},
   "source": [
    "---\n",
    "sidebar_position: 3\n",
    "---\n",
    "\n",
    "> You can get this [Notebook](https://github.com/Seeed-Projects/Tutorial-of-AI-Kit-with-Raspberry-Pi-From-Zero-to-Hero/blob/main/articles/Chapter%205%20-%20Custom%20Model%20Development%20and%20Deployment/Deploy%20Your%20Model.ipynb) on GitHub."
   ]
  },
  {
   "cell_type": "markdown",
   "metadata": {},
   "source": [
    "# Step 1: Prepare you environment on your raspberry pi\n",
    "\n",
    "**Note：This part of code run on your [raspberry pi5](https://www.seeedstudio.com/Raspberry-Pi-5-2GB-p-5938.html) or [Recomputer R Series](https://www.seeedstudio.com/reComputer-R1000-Series-Optional-Accessories.html) with your [AI kit](https://www.seeedstudio.com/Raspberry-Pi-AI-Kit-p-5900.html)**\n",
    "\n",
    "## Update time\n",
    "\n",
    "```\n",
    "sudo date -s \"$(wget -qSO- --max-redirect=0 google.com 2>&1 | grep Date: | cut -d' ' -f5-8)Z\"\n",
    "```\n",
    "\n",
    "\n",
    "## Upgrade raspberry pi\n",
    "\n",
    "```\n",
    "sudo apt update && sudo apt upgrade\n",
    "```\n",
    "\n",
    "## Install jupyter \n",
    "\n",
    "```\n",
    "sudo apt install jupyter\n",
    "```\n",
    "\n",
    "## Open jupyter\n",
    "\n",
    "```\n",
    "jupyter notebook\n",
    "```"
   ]
  },
  {
   "cell_type": "markdown",
   "metadata": {},
   "source": [
    ">**Note**\n",
    "Please install hailo8l to your raspberrypi follow [this](https://www.raspberrypi.com/documentation/accessories/ai-kit.html), and for [reComputerR](https://www.seeedstudio.com/reComputer-R1000-Series-Optional-Accessories.html) series follow [this](https://wiki.seeedstudio.com/yolov8_object_detection_on_recomputer_r1000_with_hailo_8l/#step-1-install-ai-kit)."
   ]
  },
  {
   "cell_type": "code",
   "execution_count": null,
   "metadata": {},
   "outputs": [
    {
     "name": "stdout",
     "output_type": "stream",
     "text": [
      "[sudo] password for jiahao: "
     ]
    }
   ],
   "source": [
    "# Install hailo-all on raspberrypi\n",
    "\n",
    "! sudo apt install hailo-all -y"
   ]
  },
  {
   "cell_type": "code",
   "execution_count": null,
   "metadata": {},
   "outputs": [
    {
     "name": "stdout",
     "output_type": "stream",
     "text": [
      "Executing on device: 0000:01:00.0\r\n",
      "Identifying board\r\n",
      "Control Protocol Version: 2\r\n",
      "Firmware Version: 4.18.0 (release,app,extended context switch buffer)\r\n",
      "Logger Version: 0\r\n",
      "Board Name: Hailo-8\u0000\u0000\u0000\u0000\u0000\u0000\u0000\u0000\u0000\u0000\u0000\u0000\u0000\u0000\u0000\u0000\u0000\u0000\u0000\u0000\u0000\u0000\u0000\u0000\u0000\r\n",
      "Device Architecture: HAILO8L\r\n",
      "Serial Number: HLDDLBB243200427\r\n",
      "Part Number: HM21LB1C2LAE\r\n",
      "Product Name: HAILO-8L AI ACC M.2 B+M KEY MODULE EXT TMP\r\n",
      "\r\n"
     ]
    }
   ],
   "source": [
    "# Check if the hailo-all is installed\n",
    "\n",
    "! hailortcli fw-control identify"
   ]
  },
  {
   "cell_type": "code",
   "execution_count": null,
   "metadata": {},
   "outputs": [
    {
     "name": "stdout",
     "output_type": "stream",
     "text": [
      "Cloning into 'hailo-rpi5-examples'...\n",
      "remote: Enumerating objects: 479, done.\u001b[K\n",
      "remote: Counting objects: 100% (175/175), done.\u001b[K\n",
      "remote: Compressing objects: 100% (93/93), done.\u001b[K\n",
      "remote: Total 479 (delta 103), reused 101 (delta 81), pack-reused 304 (from 1)\u001b[K\n",
      "Receiving objects: 100% (479/479), 20.37 MiB | 7.58 MiB/s, done.\n",
      "Resolving deltas: 100% (265/265), done.\n"
     ]
    }
   ],
   "source": [
    "# Install hailo-rpi5-examples\n",
    "\n",
    "! git clone https://github.com/hailo-ai/hailo-rpi5-examples.git"
   ]
  },
  {
   "cell_type": "markdown",
   "metadata": {},
   "source": [
    "# Step 2: Configure labels\n",
    "\n",
    "The output of yolov8n hef model will be three classes 0, 1, 2. And we use `json` file to parse the output."
   ]
  },
  {
   "cell_type": "code",
   "execution_count": 1,
   "metadata": {},
   "outputs": [
    {
     "name": "stdout",
     "output_type": "stream",
     "text": [
      "JSON file saved as config.json\n"
     ]
    }
   ],
   "source": [
    "import json\n",
    "\n",
    "data = {\n",
    "    \"detection_threshold\": 0.1,\n",
    "    \"max_boxes\": 200,\n",
    "    \"labels\": [\n",
    "        \" \",\n",
    "        \"apple\",\n",
    "        \"banana\",\n",
    "        \"orange\"\n",
    "    ]\n",
    "}\n",
    "\n",
    "output_file = \"config.json\"\n",
    "\n",
    "with open(output_file, \"w\") as file:\n",
    "    json.dump(data, file, indent=4)\n",
    "\n",
    "print(f\"JSON file saved as {output_file}\")"
   ]
  },
  {
   "cell_type": "code",
   "execution_count": 6,
   "metadata": {},
   "outputs": [
    {
     "name": "stdout",
     "output_type": "stream",
     "text": [
      "Setting up the environment...\n",
      "Setting up the environment for hailo-tappas-core...\n",
      "TAPPAS_VERSION is 3.29.1. Proceeding...\n",
      "You are not in the venv_hailo_rpi5_examples virtual environment.\n",
      "Virtual environment exists. Activating...\n",
      "TAPPAS_POST_PROC_DIR set to /usr/lib/aarch64-linux-gnu/hailo/tappas/post_processes\n",
      "DEVICE_ARCHITECTURE is set to: HAILO8L\n",
      "Looking in indexes: https://pypi.org/simple, https://www.piwheels.org/simple\n",
      "Collecting setproctitle\n",
      "  Downloading setproctitle-1.3.4-cp311-cp311-manylinux_2_17_aarch64.manylinux2014_aarch64.whl (31 kB)\n",
      "Installing collected packages: setproctitle\n",
      "Successfully installed setproctitle-1.3.4\n"
     ]
    }
   ],
   "source": [
    "# Install necessary libs\n",
    "\n",
    "! source ./hailo-rpi5-examples/setup_env.sh && pip install setproctitle"
   ]
  },
  {
   "cell_type": "code",
   "execution_count": null,
   "metadata": {},
   "outputs": [],
   "source": [
    "# Install postprocess .so lib\n",
    "\n",
    "! source ./hailo-rpi5-examples/setup_env.sh && cd ./hailo-rpi5-examples && bash ./install.sh"
   ]
  },
  {
   "cell_type": "markdown",
   "metadata": {},
   "source": [
    "# Step 3: Run your model\n"
   ]
  },
  {
   "cell_type": "code",
   "execution_count": 13,
   "metadata": {},
   "outputs": [
    {
     "name": "stdout",
     "output_type": "stream",
     "text": [
      "Setting up the environment...\n",
      "Setting up the environment for hailo-tappas-core...\n",
      "TAPPAS_VERSION is 3.29.1. Proceeding...\n",
      "You are not in the venv_hailo_rpi5_examples virtual environment.\n",
      "Virtual environment exists. Activating...\n",
      "TAPPAS_POST_PROC_DIR set to /usr/lib/aarch64-linux-gnu/hailo/tappas/post_processes\n",
      "DEVICE_ARCHITECTURE is set to: HAILO8L\n",
      "Auto-detected Hailo architecture: hailo8l\n",
      "v4l2src device=/dev/video0 name=source ! video/x-raw, width=640, height=480 !  queue name=source_scale_q leaky=no max-size-buffers=3 max-size-bytes=0 max-size-time=0  ! videoscale name=source_videoscale n-threads=2 ! queue name=source_convert_q leaky=no max-size-buffers=3 max-size-bytes=0 max-size-time=0  ! videoconvert n-threads=3 name=source_convert qos=false ! video/x-raw, format=RGB, pixel-aspect-ratio=1/1 !  queue name=inference_scale_q leaky=no max-size-buffers=3 max-size-bytes=0 max-size-time=0  ! videoscale name=inference_videoscale n-threads=2 qos=false ! queue name=inference_convert_q leaky=no max-size-buffers=3 max-size-bytes=0 max-size-time=0  ! video/x-raw, pixel-aspect-ratio=1/1 ! videoconvert name=inference_videoconvert n-threads=2 ! queue name=inference_hailonet_q leaky=no max-size-buffers=3 max-size-bytes=0 max-size-time=0  ! hailonet name=inference_hailonet hef-path=../../models/Chapter5/yolov8n.hef batch-size=2 nms-score-threshold=0.3 nms-iou-threshold=0.45 output-format-type=HAILO_FORMAT_TYPE_FLOAT32 force-writable=true ! queue name=inference_hailofilter_q leaky=no max-size-buffers=3 max-size-bytes=0 max-size-time=0  ! hailofilter name=inference_hailofilter so-path=/home/seeed/Tutorial-of-AI-Kit-with-Raspberry-Pi-From-Zero-to-Hero/articles/Chapter_5-Custom_Model_Development_and_Deployment/hailo-rpi5-examples/basic_pipelines/../resources/libyolo_hailortpp_postprocess.so  config-path=./config.json   qos=false  ! queue name=identity_callback_q leaky=no max-size-buffers=3 max-size-bytes=0 max-size-time=0  ! identity name=identity_callback  ! queue name=hailo_display_hailooverlay_q leaky=no max-size-buffers=3 max-size-bytes=0 max-size-time=0  ! hailooverlay name=hailo_display_hailooverlay ! queue name=hailo_display_videoconvert_q leaky=no max-size-buffers=3 max-size-bytes=0 max-size-time=0  ! videoconvert name=hailo_display_videoconvert n-threads=2 qos=false ! queue name=hailo_display_q leaky=no max-size-buffers=3 max-size-bytes=0 max-size-time=0  ! fpsdisplaysink name=hailo_display video-sink=xvimagesink sync=false text-overlay=false signal-fps-measurements=true \n",
      "Showing FPS\n",
      "FPS: 12.60, Droprate: 0.00, Avg FPS: 12.60\n",
      "FPS: 9.64, Droprate: 0.00, Avg FPS: 11.17\n",
      "FPS: 10.35, Droprate: 0.00, Avg FPS: 10.88\n",
      "FPS: 10.05, Droprate: 0.00, Avg FPS: 10.66\n",
      "FPS: 9.93, Droprate: 0.00, Avg FPS: 10.53\n",
      "FPS: 10.10, Droprate: 0.00, Avg FPS: 10.45\n",
      "FPS: 9.89, Droprate: 0.00, Avg FPS: 10.38\n",
      "FPS: 9.87, Droprate: 0.00, Avg FPS: 10.32\n",
      "FPS: 10.16, Droprate: 0.00, Avg FPS: 10.30\n",
      "FPS: 10.05, Droprate: 0.00, Avg FPS: 10.27\n",
      "FPS: 10.00, Droprate: 0.00, Avg FPS: 10.25\n",
      "FPS: 9.92, Droprate: 0.00, Avg FPS: 10.22\n",
      "FPS: 10.00, Droprate: 0.00, Avg FPS: 10.20\n",
      "FPS: 10.01, Droprate: 0.00, Avg FPS: 10.19\n",
      "FPS: 10.00, Droprate: 0.00, Avg FPS: 10.18\n",
      "FPS: 10.07, Droprate: 0.00, Avg FPS: 10.17\n",
      "FPS: 9.99, Droprate: 0.00, Avg FPS: 10.16\n",
      "FPS: 10.00, Droprate: 0.00, Avg FPS: 10.15\n",
      "FPS: 9.94, Droprate: 0.00, Avg FPS: 10.14\n",
      "FPS: 10.04, Droprate: 0.00, Avg FPS: 10.14\n",
      "FPS: 9.78, Droprate: 0.00, Avg FPS: 10.12\n",
      "Error: gst-resource-error-quark: Output window was closed (3), ../sys/xvimage/xvimagesink.c(586): gst_xv_image_sink_handle_xevents (): /GstPipeline:pipeline0/GstFPSDisplaySink:hailo_display/GstXvImageSink:xvimagesink0\n",
      "Shutting down... Hit Ctrl-C again to force quit.\n"
     ]
    }
   ],
   "source": [
    "! source ./hailo-rpi5-examples/setup_env.sh && python ./hailo-rpi5-examples/basic_pipelines/detection_pipeline.py --labels-json ./config.json --hef ../../models/Chapter5/yolov8n.hef -i /dev/video0"
   ]
  },
  {
   "cell_type": "code",
   "execution_count": null,
   "metadata": {},
   "outputs": [],
   "source": []
  }
 ],
 "metadata": {
  "kernelspec": {
   "display_name": ".venv",
   "language": "python",
   "name": "python3"
  },
  "language_info": {
   "codemirror_mode": {
    "name": "ipython",
    "version": 3
   },
   "file_extension": ".py",
   "mimetype": "text/x-python",
   "name": "python",
   "nbconvert_exporter": "python",
   "pygments_lexer": "ipython3",
   "version": "3.10.12"
  }
 },
 "nbformat": 4,
 "nbformat_minor": 2
}
