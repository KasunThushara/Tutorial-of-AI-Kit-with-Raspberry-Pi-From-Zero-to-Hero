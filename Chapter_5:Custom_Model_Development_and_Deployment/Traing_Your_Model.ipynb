{
 "cells": [
  {
   "cell_type": "markdown",
   "metadata": {},
   "source": [
    "# Prepare you environment on your host computer\n",
    "\n",
    "<span style=\"color: red;\">Note：This part of code run on your host computer</span>\n",
    "\n",
    "The Jupyter Notebook right up have a button like ![select kernel](../pictures/Chapter5/select_kernel.png), then you choose ```Select Another Kernel```, and choose ```Python Environments```, then choose ```Creat Python Environment``` and choose ```Venv```, then choose ```python3.10```."
   ]
  },
  {
   "cell_type": "code",
   "execution_count": 1,
   "metadata": {},
   "outputs": [
    {
     "name": "stdout",
     "output_type": "stream",
     "text": [
      "Linux PC 6.8.0-45-generic #45~22.04.1-Ubuntu SMP PREEMPT_DYNAMIC Wed Sep 11 15:25:05 UTC 2 x86_64 x86_64 x86_64 GNU/Linux\n"
     ]
    }
   ],
   "source": [
    "# Here is my hostcomputer information\n",
    "# Linux PC 6.8.0-45-generic #45~22.04.1-Ubuntu SMP PREEMPT_DYNAMIC Wed Sep 11 15:25:05 UTC 2 x86_64 x86_64 x86_64 GNU/Linux\n",
    "\n",
    "!uname -a"
   ]
  },
  {
   "cell_type": "code",
   "execution_count": 3,
   "metadata": {},
   "outputs": [
    {
     "name": "stdout",
     "output_type": "stream",
     "text": [
      "Python 3.10.12\n"
     ]
    }
   ],
   "source": [
    "# Here is my python version\n",
    "# Python 3.10.12\n",
    "\n",
    "!python -V"
   ]
  },
  {
   "cell_type": "markdown",
   "metadata": {},
   "source": [
    "Register and download ```hailo_dataflow_compiler-3.28.0-py3-none-linux_x86_64.whl``` from [Hailo](https://hailo.ai/developer-zone/software-downloads/)\n"
   ]
  },
  {
   "cell_type": "code",
   "execution_count": null,
   "metadata": {},
   "outputs": [],
   "source": [
    "# Install HailoDFC to compile the model\n",
    "\n",
    "%pip install hailo_dataflow_compiler-3.28.0-py3-none-linux_x86_64.whl"
   ]
  },
  {
   "cell_type": "code",
   "execution_count": null,
   "metadata": {},
   "outputs": [],
   "source": [
    "# Install torch and torchvision\n",
    "%pip install torch torchvision "
   ]
  },
  {
   "cell_type": "markdown",
   "metadata": {},
   "source": [
    "# Prepare your dateset\n",
    "\n",
    "I want to build a model to detect different fruit include banana, apple and orange. So I need to collect some pictures of this fruit. And I use [robflow](https://roboflow.com/) to label my dataset.\n",
    "\n",
    "## Step 1: Create Project\n",
    "\n",
    "Select ```New Project```:\n",
    "\n",
    "<img src=\"../pictures/Chapter5/roboflow_1.png\" width=\"600\" height=\"400\">\n",
    "\n",
    "Fill your project information and create the project\n",
    "\n",
    "<img src=\"../pictures/Chapter5/roboflow_2.png\" width=\"600\" height=\"400\">\n",
    "\n",
    "## Step 2: Update images and annotate\n",
    "\n",
    "Update images\n",
    "\n",
    "<img src=\"../pictures/Chapter5/roboflow_3.png\" width=\"600\" height=\"400\">\n",
    "\n",
    "Label your image\n",
    "\n",
    "<img src=\"../pictures/Chapter5/roboflow_4.png\" width=\"600\" height=\"400\">\n",
    "\n",
    "## Step 3: Export dataset\n",
    "\n",
    "Add annotated image to your dataset\n",
    "\n",
    "<img src=\"../pictures/Chapter5/roboflow_5.png\" width=\"600\" height=\"400\">\n",
    "\n",
    "Generate New version of your dataset\n",
    "\n",
    "<img src=\"../pictures/Chapter5/roboflow_6.png\" width=\"600\" height=\"400\">\n",
    "\n",
    "Download your dataset\n",
    "\n",
    "<img src=\"../pictures/Chapter5/roboflow_7.png\" width=\"600\" height=\"400\">\n"
   ]
  },
  {
   "cell_type": "markdown",
   "metadata": {},
   "source": []
  }
 ],
 "metadata": {
  "kernelspec": {
   "display_name": "Python 3",
   "language": "python",
   "name": "python3"
  },
  "language_info": {
   "codemirror_mode": {
    "name": "ipython",
    "version": 3
   },
   "file_extension": ".py",
   "mimetype": "text/x-python",
   "name": "python",
   "nbconvert_exporter": "python",
   "pygments_lexer": "ipython3",
   "version": "3.11.9"
  }
 },
 "nbformat": 4,
 "nbformat_minor": 2
}
